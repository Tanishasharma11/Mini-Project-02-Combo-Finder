{
  "nbformat": 4,
  "nbformat_minor": 0,
  "metadata": {
    "colab": {
      "provenance": [],
      "authorship_tag": "ABX9TyPMdP9VYy8QTF4ofLeqbN8c",
      "include_colab_link": true
    },
    "kernelspec": {
      "name": "python3",
      "display_name": "Python 3"
    },
    "language_info": {
      "name": "python"
    }
  },
  "cells": [
    {
      "cell_type": "markdown",
      "metadata": {
        "id": "view-in-github",
        "colab_type": "text"
      },
      "source": [
        "<a href=\"https://colab.research.google.com/github/Tanishasharma11/Mini-Project-02-Combo-Finder/blob/main/Mini_Project_02_Combo_Finder.ipynb\" target=\"_parent\"><img src=\"https://colab.research.google.com/assets/colab-badge.svg\" alt=\"Open In Colab\"/></a>"
      ]
    },
    {
      "cell_type": "markdown",
      "source": [
        "ComboFinder\n",
        "Problem Statement:\n",
        "Find all the list of products whose sum-of-price is between 290 and 310.\n",
        "\n",
        "ProductList = {p1:10, p2:15, p3:20, p4:25, p5:30, p6:35, p7:50}"
      ],
      "metadata": {
        "id": "ADi4OTKnzBMW"
      }
    },
    {
      "cell_type": "markdown",
      "source": [
        "Step 1 Library inclusion"
      ],
      "metadata": {
        "id": "F7OLgcFCzLKo"
      }
    },
    {
      "cell_type": "code",
      "execution_count": 1,
      "metadata": {
        "id": "CmJUh-XayJcP"
      },
      "outputs": [],
      "source": [
        "import random as r"
      ]
    },
    {
      "cell_type": "markdown",
      "source": [
        "Step 2 Parameter Setting\n",
        "Read the productId-price file and convert to dictionary"
      ],
      "metadata": {
        "id": "Qysht8AyzSLi"
      }
    },
    {
      "cell_type": "code",
      "source": [
        "ProductList = {'p1':10, 'p2':15, 'p3':20, 'p4':25, 'p5':30, 'p6':35, 'p7':50,\n",
        "               'p8':40, 'p9':55, 'p10':60, 'p11':65, 'p12':75, 'p13':70,\n",
        "               'p14':45}\n",
        "LB          = 290\n",
        "UB          = 310\n",
        "ResultList  = set()   # Store Result List i.e. list of sets whose sum is between 90 and 210.\n",
        "Iterations  = 1000    # Number of Inerations"
      ],
      "metadata": {
        "id": "0zM4LxOvzV-q"
      },
      "execution_count": 3,
      "outputs": []
    },
    {
      "cell_type": "markdown",
      "source": [
        "Step 2.1 Single Run"
      ],
      "metadata": {
        "id": "unz6d2Xfzeh2"
      }
    },
    {
      "cell_type": "code",
      "source": [
        "# Select combo size (i.e. number of products in a combo)\n",
        "SetSize = r.randint(2, len(ProductList)-1)\n",
        "print(\"Number of Product: \", SetSize)\n",
        "\n",
        "\n",
        "# Select number of elements from Set\n",
        "ComboList = r.sample(list(ProductList.keys()),SetSize)\n",
        "print(\"Product List     : \", ComboList)\n",
        "\n",
        "\n",
        "# Sum the products in ColboList\n",
        "ComboSum = sum([ ProductList[i] for i in ComboList])\n",
        "print(\"Sum of Product   : \", ComboSum)\n"
      ],
      "metadata": {
        "colab": {
          "base_uri": "https://localhost:8080/"
        },
        "id": "xFlzHJ-jzm9C",
        "outputId": "f593bdf6-8f94-44bd-a6c5-4faec3223330"
      },
      "execution_count": 4,
      "outputs": [
        {
          "output_type": "stream",
          "name": "stdout",
          "text": [
            "Number of Product:  13\n",
            "Product List     :  ['p11', 'p10', 'p9', 'p6', 'p14', 'p2', 'p8', 'p5', 'p7', 'p12', 'p1', 'p4', 'p13']\n",
            "Sum of Product   :  575\n"
          ]
        }
      ]
    },
    {
      "cell_type": "markdown",
      "source": [
        "Step 3 Start Program"
      ],
      "metadata": {
        "id": "C6HspJhmzq4d"
      }
    },
    {
      "cell_type": "code",
      "source": [
        "# Loop till number of Iterations\n",
        "ResultList  = set()\n",
        "\n",
        "for i in range(Iterations):\n",
        "\n",
        "    # Select combo size (i.e. number of products in a combo)\n",
        "    SetSize = r.randint(2, len(ProductList)-1)\n",
        "\n",
        "    # Select number of elements from Set\n",
        "    ComboList = r.sample(list(ProductList.keys()),SetSize)\n",
        "\n",
        "    # Sum the products in ColboList\n",
        "    ComboSum = sum([ ProductList[i] for i in ComboList])\n",
        "    \n",
        "    # Check the Sum Between LB and UB\n",
        "    if ComboSum>= LB and ComboSum<= UB:\n",
        "      ResultList.add(tuple(ComboList))\n",
        "\n",
        "print(\"Done\")"
      ],
      "metadata": {
        "colab": {
          "base_uri": "https://localhost:8080/"
        },
        "id": "asE3csvKztyp",
        "outputId": "01ddf543-e332-4688-8f45-5779389c5f32"
      },
      "execution_count": 5,
      "outputs": [
        {
          "output_type": "stream",
          "name": "stdout",
          "text": [
            "Done\n"
          ]
        }
      ]
    },
    {
      "cell_type": "markdown",
      "source": [
        "Step 4 Print the comboLists and total count"
      ],
      "metadata": {
        "id": "LG-uU-dNzywV"
      }
    },
    {
      "cell_type": "code",
      "source": [
        "# Print all the sets whose sum is between LB and UB\n",
        "for r in ResultList:\n",
        "\tprint (r)\n",
        "\n",
        "# Print total sets\n",
        "print (\"\\nTotal Sets: \", len(ResultList), \"\\n\")"
      ],
      "metadata": {
        "colab": {
          "base_uri": "https://localhost:8080/"
        },
        "id": "UwfONvLSz1yW",
        "outputId": "c974b5e4-eb98-4927-d514-2ed089496d0a"
      },
      "execution_count": 6,
      "outputs": [
        {
          "output_type": "stream",
          "name": "stdout",
          "text": [
            "('p11', 'p14', 'p4', 'p5', 'p13', 'p1', 'p2', 'p8')\n",
            "('p1', 'p13', 'p5', 'p10', 'p14', 'p7', 'p4')\n",
            "('p9', 'p10', 'p5', 'p12', 'p13')\n",
            "('p1', 'p5', 'p12', 'p8', 'p3', 'p10', 'p9')\n",
            "('p9', 'p8', 'p10', 'p13', 'p3', 'p1', 'p7')\n",
            "('p4', 'p7', 'p14', 'p9', 'p13', 'p1', 'p6')\n",
            "('p12', 'p13', 'p14', 'p10', 'p8')\n",
            "('p9', 'p1', 'p11', 'p6', 'p13', 'p12')\n",
            "('p6', 'p11', 'p5', 'p2', 'p14', 'p9', 'p3', 'p4')\n",
            "('p7', 'p3', 'p13', 'p12', 'p2', 'p10')\n",
            "('p13', 'p9', 'p6', 'p4', 'p2', 'p5', 'p12')\n",
            "('p10', 'p5', 'p4', 'p11', 'p12', 'p6')\n",
            "('p5', 'p14', 'p1', 'p12', 'p11', 'p7', 'p2')\n",
            "('p6', 'p7', 'p1', 'p2', 'p3', 'p11', 'p5', 'p12')\n",
            "('p12', 'p1', 'p14', 'p2', 'p5', 'p9', 'p6', 'p3', 'p4')\n",
            "('p6', 'p5', 'p3', 'p11', 'p8', 'p9', 'p7')\n",
            "('p4', 'p7', 'p6', 'p3', 'p8', 'p10', 'p9', 'p1')\n",
            "('p8', 'p4', 'p5', 'p6', 'p9', 'p7', 'p11')\n",
            "('p5', 'p4', 'p12', 'p6', 'p11', 'p7', 'p1', 'p2')\n",
            "('p1', 'p3', 'p10', 'p9', 'p14', 'p11', 'p7')\n",
            "('p12', 'p13', 'p9', 'p3', 'p5', 'p14')\n",
            "('p8', 'p10', 'p12', 'p6', 'p4', 'p14', 'p1')\n",
            "('p2', 'p11', 'p10', 'p3', 'p13', 'p9', 'p1')\n",
            "('p3', 'p13', 'p1', 'p10', 'p8', 'p14', 'p7')\n",
            "('p12', 'p1', 'p4', 'p6', 'p14', 'p5', 'p9', 'p2')\n",
            "('p13', 'p7', 'p10', 'p9', 'p8', 'p2')\n",
            "('p13', 'p5', 'p2', 'p14', 'p11', 'p9', 'p4')\n",
            "('p6', 'p10', 'p5', 'p12', 'p4', 'p13')\n",
            "('p13', 'p7', 'p14', 'p3', 'p12', 'p5')\n",
            "('p12', 'p2', 'p14', 'p1', 'p13', 'p10', 'p6')\n",
            "('p8', 'p4', 'p7', 'p14', 'p3', 'p11', 'p6', 'p1')\n",
            "('p13', 'p12', 'p10', 'p4', 'p11')\n",
            "('p10', 'p1', 'p4', 'p13', 'p5', 'p12', 'p6')\n",
            "('p13', 'p1', 'p5', 'p2', 'p9', 'p11', 'p7')\n",
            "('p9', 'p4', 'p12', 'p14', 'p11', 'p3', 'p2')\n",
            "('p6', 'p5', 'p14', 'p11', 'p12', 'p7')\n",
            "('p4', 'p1', 'p8', 'p6', 'p10', 'p14', 'p3', 'p13')\n",
            "('p13', 'p6', 'p2', 'p11', 'p1', 'p14', 'p5', 'p8')\n",
            "('p12', 'p14', 'p1', 'p3', 'p4', 'p5', 'p2', 'p8', 'p6')\n",
            "('p7', 'p5', 'p10', 'p11', 'p6', 'p8', 'p1')\n",
            "('p6', 'p12', 'p8', 'p1', 'p4', 'p9', 'p11')\n",
            "('p14', 'p1', 'p4', 'p12', 'p3', 'p6', 'p10', 'p8')\n",
            "('p6', 'p8', 'p2', 'p3', 'p10', 'p4', 'p11', 'p14')\n",
            "('p6', 'p14', 'p12', 'p11', 'p3', 'p7')\n",
            "('p14', 'p1', 'p4', 'p12', 'p2', 'p7', 'p3', 'p13')\n",
            "('p14', 'p5', 'p4', 'p3', 'p10', 'p11', 'p8', 'p1')\n",
            "('p7', 'p6', 'p2', 'p14', 'p13', 'p5', 'p1', 'p9')\n",
            "('p14', 'p7', 'p6', 'p11', 'p1', 'p3', 'p4', 'p8')\n",
            "\n",
            "Total Sets:  48 \n",
            "\n"
          ]
        }
      ]
    },
    {
      "cell_type": "markdown",
      "source": [
        "Step 5 Complete Program with sorting"
      ],
      "metadata": {
        "id": "uMdh470xz5rH"
      }
    },
    {
      "cell_type": "code",
      "source": [
        "#-------------------------------------------------------------\n",
        "# Step 1: Library inclusion                             \n",
        "#-------------------------------------------------------------\n",
        "import random as r\n",
        "\n",
        "\n",
        "#-------------------------------------------------------------\n",
        "# Step 2: Parameter Setting\n",
        "#-------------------------------------------------------------\n",
        "ProductList = {'p1':10, 'p2':15, 'p3':20, 'p4':25, 'p5':30, 'p6':35, 'p7':50,\n",
        "               'p8':40, 'p9':55, 'p10':60, 'p11':65, 'p12':75, 'p13':70,\n",
        "               'p14':45}\n",
        "LB          = 290\n",
        "UB          = 310\n",
        "ResultList  = set()   # Store Result List i.e. list of sets whose sum is between 90 and 210.\n",
        "Iterations  = 1000    # Number of Inerations\n",
        "\n",
        "\n",
        "#-------------------------------------------------------------\n",
        "# Step3: Start Program\n",
        "#-------------------------------------------------------------\n",
        "for i in range(Iterations):\n",
        "\n",
        "    # Select combo size (i.e. number of products in a combo)\n",
        "    SetSize = r.randint(2, len(ProductList)-1)\n",
        "\n",
        "    # Select number of elements from Set\n",
        "    ComboList = r.sample(list(ProductList.keys()),SetSize)\n",
        "    ComboList.sort()\n",
        "\n",
        "    # Sum the products in ColboList\n",
        "    ComboSum = sum([ ProductList[i] for i in ComboList])\n",
        "\n",
        "    # Check the Sum Between LB and UB\n",
        "    if ComboSum>= LB and ComboSum<= UB:\n",
        "      ResultList.add(tuple(ComboList))\n",
        "\n",
        "\n",
        "# Print all the sets whose sum is between LB and UB\n",
        "for r in ResultList:\n",
        "\tprint (r)\n",
        "\n",
        "# Print total sets\n",
        "print (\"\\nTotal Sets: \", len(ResultList), \"\\n\")\n"
      ],
      "metadata": {
        "colab": {
          "base_uri": "https://localhost:8080/"
        },
        "id": "48mCGd1az9YK",
        "outputId": "51a176e8-601c-470d-8806-e58842df5006"
      },
      "execution_count": 7,
      "outputs": [
        {
          "output_type": "stream",
          "name": "stdout",
          "text": [
            "('p1', 'p11', 'p13', 'p5', 'p6', 'p8', 'p9')\n",
            "('p10', 'p12', 'p13', 'p2', 'p3', 'p7')\n",
            "('p12', 'p13', 'p14', 'p4', 'p6', 'p9')\n",
            "('p1', 'p12', 'p13', 'p14', 'p3', 'p6', 'p7')\n",
            "('p1', 'p10', 'p13', 'p14', 'p4', 'p6', 'p7')\n",
            "('p1', 'p12', 'p13', 'p3', 'p6', 'p8', 'p9')\n",
            "('p10', 'p11', 'p12', 'p8', 'p9')\n",
            "('p1', 'p10', 'p11', 'p14', 'p2', 'p3', 'p4', 'p9')\n",
            "('p11', 'p12', 'p13', 'p3', 'p5', 'p7')\n",
            "('p1', 'p10', 'p13', 'p2', 'p3', 'p5', 'p8', 'p9')\n",
            "('p10', 'p13', 'p14', 'p2', 'p3', 'p4', 'p9')\n",
            "('p1', 'p13', 'p14', 'p3', 'p5', 'p6', 'p8', 'p9')\n",
            "('p1', 'p10', 'p14', 'p3', 'p5', 'p6', 'p7', 'p8')\n",
            "('p1', 'p10', 'p12', 'p14', 'p2', 'p3', 'p6', 'p8')\n",
            "('p1', 'p12', 'p13', 'p3', 'p5', 'p6', 'p7')\n",
            "('p11', 'p13', 'p2', 'p3', 'p5', 'p7', 'p8')\n",
            "('p1', 'p11', 'p12', 'p13', 'p14', 'p2', 'p4')\n",
            "('p1', 'p12', 'p14', 'p3', 'p4', 'p5', 'p8', 'p9')\n",
            "('p10', 'p12', 'p14', 'p2', 'p4', 'p5', 'p7')\n",
            "('p1', 'p10', 'p13', 'p14', 'p4', 'p5', 'p9')\n",
            "('p12', 'p14', 'p4', 'p5', 'p6', 'p8', 'p9')\n",
            "('p1', 'p11', 'p14', 'p2', 'p3', 'p4', 'p6', 'p8', 'p9')\n",
            "('p10', 'p13', 'p3', 'p4', 'p5', 'p6', 'p7')\n",
            "('p11', 'p12', 'p13', 'p2', 'p4', 'p7')\n",
            "('p12', 'p13', 'p2', 'p3', 'p4', 'p5', 'p9')\n",
            "('p10', 'p11', 'p5', 'p6', 'p7', 'p9')\n",
            "('p10', 'p11', 'p12', 'p14', 'p7')\n",
            "('p1', 'p10', 'p11', 'p14', 'p2', 'p3', 'p4', 'p5', 'p8')\n",
            "('p12', 'p14', 'p6', 'p7', 'p8', 'p9')\n",
            "('p1', 'p11', 'p12', 'p14', 'p2', 'p5', 'p7')\n",
            "('p1', 'p12', 'p13', 'p14', 'p2', 'p3', 'p4', 'p8')\n",
            "('p10', 'p13', 'p14', 'p2', 'p5', 'p6', 'p7')\n",
            "('p1', 'p10', 'p14', 'p2', 'p3', 'p5', 'p6', 'p8', 'p9')\n",
            "('p1', 'p11', 'p12', 'p2', 'p3', 'p5', 'p8', 'p9')\n",
            "('p1', 'p11', 'p2', 'p3', 'p4', 'p5', 'p7', 'p8', 'p9')\n",
            "('p12', 'p14', 'p3', 'p4', 'p7', 'p8', 'p9')\n",
            "('p1', 'p10', 'p11', 'p12', 'p6', 'p9')\n",
            "('p1', 'p13', 'p14', 'p3', 'p7', 'p8', 'p9')\n",
            "('p1', 'p11', 'p12', 'p13', 'p2', 'p4', 'p6')\n",
            "('p10', 'p12', 'p3', 'p6', 'p7', 'p9')\n",
            "('p1', 'p14', 'p2', 'p3', 'p4', 'p6', 'p7', 'p8', 'p9')\n",
            "('p10', 'p12', 'p13', 'p14', 'p2', 'p3', 'p4')\n",
            "('p1', 'p10', 'p13', 'p3', 'p4', 'p6', 'p7', 'p8')\n",
            "('p1', 'p10', 'p12', 'p4', 'p5', 'p6', 'p9')\n",
            "('p1', 'p11', 'p13', 'p3', 'p4', 'p5', 'p6', 'p8')\n",
            "('p10', 'p13', 'p14', 'p6', 'p7', 'p8')\n",
            "('p10', 'p13', 'p3', 'p4', 'p5', 'p8', 'p9')\n",
            "('p10', 'p11', 'p13', 'p2', 'p3', 'p4', 'p9')\n",
            "('p1', 'p10', 'p11', 'p14', 'p2', 'p5', 'p6', 'p8')\n",
            "('p11', 'p12', 'p13', 'p2', 'p3', 'p4', 'p5')\n",
            "\n",
            "Total Sets:  50 \n",
            "\n"
          ]
        }
      ]
    }
  ]
}